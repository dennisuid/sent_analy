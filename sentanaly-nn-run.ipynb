{
 "cells": [
  {
   "cell_type": "code",
   "execution_count": 1,
   "id": "38995080",
   "metadata": {
    "_cell_guid": "b1076dfc-b9ad-4769-8c92-a6c4dae69d19",
    "_uuid": "8f2839f25d086af736a60e9eeb907d3b93b6e0e5",
    "execution": {
     "iopub.execute_input": "2023-04-07T11:56:18.037853Z",
     "iopub.status.busy": "2023-04-07T11:56:18.037160Z",
     "iopub.status.idle": "2023-04-07T11:56:20.180263Z",
     "shell.execute_reply": "2023-04-07T11:56:20.179281Z"
    },
    "papermill": {
     "duration": 2.15137,
     "end_time": "2023-04-07T11:56:20.183213",
     "exception": false,
     "start_time": "2023-04-07T11:56:18.031843",
     "status": "completed"
    },
    "tags": []
   },
   "outputs": [],
   "source": [
    "import torch\n",
    "import torchtext\n",
    "import torch.nn as nn\n",
    "import torch.optim as optim\n",
    "from torch.utils.data import Dataset, DataLoader\n",
    "import torch.nn.utils.rnn as rnn_utils\n",
    "import numpy as np\n",
    "import pandas as pd"
   ]
  },
  {
   "cell_type": "code",
   "execution_count": 2,
   "id": "b7648d03",
   "metadata": {
    "execution": {
     "iopub.execute_input": "2023-04-07T11:56:20.191225Z",
     "iopub.status.busy": "2023-04-07T11:56:20.190810Z",
     "iopub.status.idle": "2023-04-07T11:56:20.413451Z",
     "shell.execute_reply": "2023-04-07T11:56:20.412407Z"
    },
    "papermill": {
     "duration": 0.229315,
     "end_time": "2023-04-07T11:56:20.416027",
     "exception": false,
     "start_time": "2023-04-07T11:56:20.186712",
     "status": "completed"
    },
    "tags": []
   },
   "outputs": [],
   "source": [
    "# Load data\n",
    "df_full = pd.read_csv('/kaggle/input/sentiment-analysis-on-movie-reviews/train.tsv.zip', sep='\\t', compression='zip')\n",
    "# df_full.info()"
   ]
  },
  {
   "cell_type": "code",
   "execution_count": 3,
   "id": "dc53bda8",
   "metadata": {
    "execution": {
     "iopub.execute_input": "2023-04-07T11:56:20.425243Z",
     "iopub.status.busy": "2023-04-07T11:56:20.423717Z",
     "iopub.status.idle": "2023-04-07T11:56:20.604957Z",
     "shell.execute_reply": "2023-04-07T11:56:20.603864Z"
    },
    "papermill": {
     "duration": 0.190714,
     "end_time": "2023-04-07T11:56:20.610068",
     "exception": false,
     "start_time": "2023-04-07T11:56:20.419354",
     "status": "completed"
    },
    "tags": []
   },
   "outputs": [],
   "source": [
    "# Tokenize and pad sequences\n",
    "vocab = set(\" \".join(df_full[\"Phrase\"]).split())\n",
    "vocab.add(\"<PAD>\")\n",
    "word_to_ix = {word: i+1 for i, word in enumerate(vocab)}"
   ]
  },
  {
   "cell_type": "code",
   "execution_count": 4,
   "id": "6cdea168",
   "metadata": {
    "execution": {
     "iopub.execute_input": "2023-04-07T11:56:20.625373Z",
     "iopub.status.busy": "2023-04-07T11:56:20.624925Z",
     "iopub.status.idle": "2023-04-07T11:56:20.632328Z",
     "shell.execute_reply": "2023-04-07T11:56:20.631459Z"
    },
    "papermill": {
     "duration": 0.018404,
     "end_time": "2023-04-07T11:56:20.636224",
     "exception": false,
     "start_time": "2023-04-07T11:56:20.617820",
     "status": "completed"
    },
    "tags": []
   },
   "outputs": [],
   "source": [
    "# padding function for each movie review sentence\n",
    "def create_padding(sentence):\n",
    "    words = sentence.split()\n",
    "    words = words[:10] if len(words) > 10 else words + [\"<PAD>\"] * (10 - len(words))\n",
    "    words = ' '.join(words)\n",
    "    return words\n",
    "\n"
   ]
  },
  {
   "cell_type": "code",
   "execution_count": 5,
   "id": "f3875055",
   "metadata": {
    "execution": {
     "iopub.execute_input": "2023-04-07T11:56:20.648566Z",
     "iopub.status.busy": "2023-04-07T11:56:20.648128Z",
     "iopub.status.idle": "2023-04-07T11:56:20.947841Z",
     "shell.execute_reply": "2023-04-07T11:56:20.946826Z"
    },
    "papermill": {
     "duration": 0.308301,
     "end_time": "2023-04-07T11:56:20.950038",
     "exception": false,
     "start_time": "2023-04-07T11:56:20.641737",
     "status": "completed"
    },
    "tags": []
   },
   "outputs": [
    {
     "name": "stdout",
     "output_type": "stream",
     "text": [
      "<class 'pandas.core.frame.DataFrame'>\n",
      "RangeIndex: 156060 entries, 0 to 156059\n",
      "Data columns (total 3 columns):\n",
      " #   Column     Non-Null Count   Dtype \n",
      "---  ------     --------------   ----- \n",
      " 0   PhraseId   156060 non-null  int64 \n",
      " 1   Phrase     156060 non-null  object\n",
      " 2   Sentiment  156060 non-null  int64 \n",
      "dtypes: int64(2), object(1)\n",
      "memory usage: 3.6+ MB\n",
      "<class 'pandas.core.frame.DataFrame'>\n",
      "RangeIndex: 156060 entries, 0 to 156059\n",
      "Data columns (total 3 columns):\n",
      " #   Column     Non-Null Count   Dtype \n",
      "---  ------     --------------   ----- \n",
      " 0   PhraseId   156060 non-null  int64 \n",
      " 1   Phrase     156060 non-null  object\n",
      " 2   Sentiment  156060 non-null  int64 \n",
      "dtypes: int64(2), object(1)\n",
      "memory usage: 3.6+ MB\n",
      "<class 'pandas.core.frame.DataFrame'>\n",
      "RangeIndex: 156060 entries, 0 to 156059\n",
      "Data columns (total 3 columns):\n",
      " #   Column     Non-Null Count   Dtype \n",
      "---  ------     --------------   ----- \n",
      " 0   PhraseId   156060 non-null  int64 \n",
      " 1   Phrase     156060 non-null  object\n",
      " 2   Sentiment  156060 non-null  int64 \n",
      "dtypes: int64(2), object(1)\n",
      "memory usage: 3.6+ MB\n"
     ]
    }
   ],
   "source": [
    "# Relevant columns only\n",
    "data = df_full.drop(['SentenceId'], axis=1)\n",
    "data.info()\n",
    "# apply the function to the dataframe column 'Phrase'\n",
    "# data = data[data['Phrase'].apply(lambda x: len(x.split()) >= 3)]\n",
    "\n",
    "data['Phrase'] = data['Phrase'].apply(lambda x: create_padding(x))\n",
    "data.info()\n",
    "# data = data.iloc[:10000, :]\n",
    "data.info()"
   ]
  },
  {
   "cell_type": "code",
   "execution_count": 6,
   "id": "42aed27a",
   "metadata": {
    "execution": {
     "iopub.execute_input": "2023-04-07T11:56:20.958258Z",
     "iopub.status.busy": "2023-04-07T11:56:20.957965Z",
     "iopub.status.idle": "2023-04-07T11:56:20.963004Z",
     "shell.execute_reply": "2023-04-07T11:56:20.961763Z"
    },
    "papermill": {
     "duration": 0.01161,
     "end_time": "2023-04-07T11:56:20.965326",
     "exception": false,
     "start_time": "2023-04-07T11:56:20.953716",
     "status": "completed"
    },
    "tags": []
   },
   "outputs": [],
   "source": [
    "# collate function to provide equal length of tokens in each row of the batch\n",
    "def collate_fn(batch):\n",
    "    # Assuming each element of batch is a sequence of tensors\n",
    "    # Pad sequences to the same length\n",
    "    x_batch, y_batch = zip(*batch)\n",
    "    x_batch = rnn_utils.pad_sequence(x_batch, batch_first=True)\n",
    "    return x_batch, y_batch"
   ]
  },
  {
   "cell_type": "code",
   "execution_count": 7,
   "id": "04e2fd3c",
   "metadata": {
    "execution": {
     "iopub.execute_input": "2023-04-07T11:56:20.973286Z",
     "iopub.status.busy": "2023-04-07T11:56:20.972670Z",
     "iopub.status.idle": "2023-04-07T11:56:20.980328Z",
     "shell.execute_reply": "2023-04-07T11:56:20.979442Z"
    },
    "papermill": {
     "duration": 0.014004,
     "end_time": "2023-04-07T11:56:20.982501",
     "exception": false,
     "start_time": "2023-04-07T11:56:20.968497",
     "status": "completed"
    },
    "tags": []
   },
   "outputs": [],
   "source": [
    "# Define dataset class\n",
    "class SentimentDataset(Dataset):\n",
    "    def __init__(self, data, tokenizer):\n",
    "        self.data = data\n",
    "        self.tokenizer = tokenizer\n",
    "        self.num_classes = len(set(data[\"Sentiment\"]))\n",
    "\n",
    "    def __len__(self):\n",
    "        return len(self.data)\n",
    "\n",
    "    def __getitem__(self, index):\n",
    "        x = self.data.iloc[index][\"Phrase\"]\n",
    "        y = self.data.iloc[index][\"Sentiment\"]\n",
    "        x_tokenized = self.tokenizer(x)\n",
    "#         print(type(x_tokenized))\n",
    "        x_tokenized_len = len(x_tokenized)\n",
    "        x_tokenized_ids = [word_to_ix[word] if word in word_to_ix else word_to_ix['<PAD>'] for word in x_tokenized]\n",
    "        x_tokenized_tensor = torch.tensor(x_tokenized_ids)\n",
    "#         print(f'x_tokenized: {x_tokenized_tensor} and y: {y}')\n",
    "        return x_tokenized_tensor, y"
   ]
  },
  {
   "cell_type": "code",
   "execution_count": 8,
   "id": "2258da76",
   "metadata": {
    "execution": {
     "iopub.execute_input": "2023-04-07T11:56:20.990248Z",
     "iopub.status.busy": "2023-04-07T11:56:20.989988Z",
     "iopub.status.idle": "2023-04-07T11:56:20.997075Z",
     "shell.execute_reply": "2023-04-07T11:56:20.996032Z"
    },
    "papermill": {
     "duration": 0.0136,
     "end_time": "2023-04-07T11:56:20.999203",
     "exception": false,
     "start_time": "2023-04-07T11:56:20.985603",
     "status": "completed"
    },
    "tags": []
   },
   "outputs": [],
   "source": [
    "# Define model architecture\n",
    "class SentimentRNN(nn.Module):\n",
    "    def __init__(self, input_size, hidden_size, output_size, num_layers):\n",
    "        super().__init__()\n",
    "        self.embedding = nn.Embedding(input_size, hidden_size)\n",
    "        self.rnn = nn.LSTM(hidden_size, hidden_size, num_layers, batch_first=True)\n",
    "        self.fc = nn.Linear(hidden_size, output_size)\n",
    "\n",
    "    def forward(self, x):\n",
    "        x = self.embedding(x)\n",
    "        h0 = torch.zeros(self.rnn.num_layers, x.size(0), self.rnn.hidden_size).to(device)\n",
    "        c0 = torch.zeros(self.rnn.num_layers, x.size(0), self.rnn.hidden_size).to(device)\n",
    "        out, _ = self.rnn(x, (h0, c0))\n",
    "        out = out[:, -1, :]\n",
    "        out = self.fc(out)\n",
    "        return out"
   ]
  },
  {
   "cell_type": "code",
   "execution_count": 9,
   "id": "09eee71c",
   "metadata": {
    "execution": {
     "iopub.execute_input": "2023-04-07T11:56:21.006722Z",
     "iopub.status.busy": "2023-04-07T11:56:21.006459Z",
     "iopub.status.idle": "2023-04-07T11:56:21.010981Z",
     "shell.execute_reply": "2023-04-07T11:56:21.009986Z"
    },
    "papermill": {
     "duration": 0.010804,
     "end_time": "2023-04-07T11:56:21.013145",
     "exception": false,
     "start_time": "2023-04-07T11:56:21.002341",
     "status": "completed"
    },
    "tags": []
   },
   "outputs": [],
   "source": [
    "# Define model parameters\n",
    "input_size = len(vocab) + 1\n",
    "hidden_size = 128\n",
    "output_size = 5\n",
    "num_layers = 5"
   ]
  },
  {
   "cell_type": "code",
   "execution_count": 10,
   "id": "634b485e",
   "metadata": {
    "execution": {
     "iopub.execute_input": "2023-04-07T11:56:21.021042Z",
     "iopub.status.busy": "2023-04-07T11:56:21.020231Z",
     "iopub.status.idle": "2023-04-07T15:40:58.010141Z",
     "shell.execute_reply": "2023-04-07T15:40:58.009065Z"
    },
    "papermill": {
     "duration": 13477.008978,
     "end_time": "2023-04-07T15:40:58.025273",
     "exception": false,
     "start_time": "2023-04-07T11:56:21.016295",
     "status": "completed"
    },
    "tags": []
   },
   "outputs": [
    {
     "name": "stdout",
     "output_type": "stream",
     "text": [
      "<class '__main__.SentimentDataset'>\n",
      "<class 'torch.utils.data.dataloader.DataLoader'>\n",
      "Epoch 1/200, Loss: 1.0780\n",
      "Epoch 2/200, Loss: 0.8509\n",
      "Epoch 3/200, Loss: 0.7574\n",
      "Epoch 4/200, Loss: 0.6961\n",
      "Epoch 5/200, Loss: 0.6467\n",
      "Epoch 6/200, Loss: 0.6047\n",
      "Epoch 7/200, Loss: 0.5610\n",
      "Epoch 8/200, Loss: 0.5199\n",
      "Epoch 9/200, Loss: 0.4801\n",
      "Epoch 10/200, Loss: 0.4429\n",
      "Epoch 11/200, Loss: 0.4074\n",
      "Epoch 12/200, Loss: 0.3747\n",
      "Epoch 13/200, Loss: 0.3478\n",
      "Epoch 14/200, Loss: 0.3225\n",
      "Epoch 15/200, Loss: 0.3032\n",
      "Epoch 16/200, Loss: 0.2832\n",
      "Epoch 17/200, Loss: 0.2679\n",
      "Epoch 18/200, Loss: 0.2536\n",
      "Epoch 19/200, Loss: 0.2432\n",
      "Epoch 20/200, Loss: 0.2339\n",
      "Epoch 21/200, Loss: 0.2250\n",
      "Epoch 22/200, Loss: 0.2171\n",
      "Epoch 23/200, Loss: 0.2122\n",
      "Epoch 24/200, Loss: 0.2047\n",
      "Epoch 25/200, Loss: 0.2018\n",
      "Epoch 26/200, Loss: 0.1961\n",
      "Epoch 27/200, Loss: 0.1914\n",
      "Epoch 28/200, Loss: 0.1892\n",
      "Epoch 29/200, Loss: 0.1841\n",
      "Epoch 30/200, Loss: 0.1816\n",
      "Epoch 31/200, Loss: 0.1778\n",
      "Epoch 32/200, Loss: 0.1783\n",
      "Epoch 33/200, Loss: 0.1749\n",
      "Epoch 34/200, Loss: 0.1722\n",
      "Epoch 35/200, Loss: 0.1678\n",
      "Epoch 36/200, Loss: 0.1687\n",
      "Epoch 37/200, Loss: 0.1675\n",
      "Epoch 38/200, Loss: 0.1657\n",
      "Epoch 39/200, Loss: 0.1635\n",
      "Epoch 40/200, Loss: 0.1621\n",
      "Epoch 41/200, Loss: 0.1613\n",
      "Epoch 42/200, Loss: 0.1578\n",
      "Epoch 43/200, Loss: 0.1605\n",
      "Epoch 44/200, Loss: 0.1579\n",
      "Epoch 45/200, Loss: 0.1570\n",
      "Epoch 46/200, Loss: 0.1554\n",
      "Epoch 47/200, Loss: 0.1548\n",
      "Epoch 48/200, Loss: 0.1546\n",
      "Epoch 49/200, Loss: 0.1525\n",
      "Epoch 50/200, Loss: 0.1543\n",
      "Epoch 51/200, Loss: 0.1509\n",
      "Epoch 52/200, Loss: 0.1538\n",
      "Epoch 53/200, Loss: 0.1522\n",
      "Epoch 54/200, Loss: 0.1523\n",
      "Epoch 55/200, Loss: 0.1495\n",
      "Epoch 56/200, Loss: 0.1491\n",
      "Epoch 57/200, Loss: 0.1484\n",
      "Epoch 58/200, Loss: 0.1480\n",
      "Epoch 59/200, Loss: 0.1484\n",
      "Epoch 60/200, Loss: 0.1464\n",
      "Epoch 61/200, Loss: 0.1462\n",
      "Epoch 62/200, Loss: 0.1474\n",
      "Epoch 63/200, Loss: 0.1467\n",
      "Epoch 64/200, Loss: 0.1450\n",
      "Epoch 65/200, Loss: 0.1452\n",
      "Epoch 66/200, Loss: 0.1468\n",
      "Epoch 67/200, Loss: 0.1444\n",
      "Epoch 68/200, Loss: 0.1451\n",
      "Epoch 69/200, Loss: 0.1451\n",
      "Epoch 70/200, Loss: 0.1428\n",
      "Epoch 71/200, Loss: 0.1457\n",
      "Epoch 72/200, Loss: 0.1413\n",
      "Epoch 73/200, Loss: 0.1433\n",
      "Epoch 74/200, Loss: 0.1432\n",
      "Epoch 75/200, Loss: 0.1430\n",
      "Epoch 76/200, Loss: 0.1432\n",
      "Epoch 77/200, Loss: 0.1405\n",
      "Epoch 78/200, Loss: 0.1436\n",
      "Epoch 79/200, Loss: 0.1429\n",
      "Epoch 80/200, Loss: 0.1414\n",
      "Epoch 81/200, Loss: 0.1417\n",
      "Epoch 82/200, Loss: 0.1419\n",
      "Epoch 83/200, Loss: 0.1431\n",
      "Epoch 84/200, Loss: 0.1400\n",
      "Epoch 85/200, Loss: 0.1424\n",
      "Epoch 86/200, Loss: 0.1383\n",
      "Epoch 87/200, Loss: 0.1411\n",
      "Epoch 88/200, Loss: 0.1401\n",
      "Epoch 89/200, Loss: 0.1394\n",
      "Epoch 90/200, Loss: 0.1398\n",
      "Epoch 91/200, Loss: 0.1393\n",
      "Epoch 92/200, Loss: 0.1365\n",
      "Epoch 93/200, Loss: 0.1405\n",
      "Epoch 94/200, Loss: 0.1389\n",
      "Epoch 95/200, Loss: 0.1393\n",
      "Epoch 96/200, Loss: 0.1386\n",
      "Epoch 97/200, Loss: 0.1392\n",
      "Epoch 98/200, Loss: 0.1380\n",
      "Epoch 99/200, Loss: 0.1385\n",
      "Epoch 100/200, Loss: 0.1393\n",
      "Epoch 101/200, Loss: 0.1383\n",
      "Epoch 102/200, Loss: 0.1400\n",
      "Epoch 103/200, Loss: 0.1366\n",
      "Epoch 104/200, Loss: 0.1386\n",
      "Epoch 105/200, Loss: 0.1379\n",
      "Epoch 106/200, Loss: 0.1369\n",
      "Epoch 107/200, Loss: 0.1359\n",
      "Epoch 108/200, Loss: 0.1358\n",
      "Epoch 109/200, Loss: 0.1368\n",
      "Epoch 110/200, Loss: 0.1348\n",
      "Epoch 111/200, Loss: 0.1374\n",
      "Epoch 112/200, Loss: 0.1365\n",
      "Epoch 113/200, Loss: 0.1359\n",
      "Epoch 114/200, Loss: 0.1360\n",
      "Epoch 115/200, Loss: 0.1353\n",
      "Epoch 116/200, Loss: 0.1366\n",
      "Epoch 117/200, Loss: 0.1372\n",
      "Epoch 118/200, Loss: 0.1352\n",
      "Epoch 119/200, Loss: 0.1352\n",
      "Epoch 120/200, Loss: 0.1333\n",
      "Epoch 121/200, Loss: 0.1360\n",
      "Epoch 122/200, Loss: 0.1351\n",
      "Epoch 123/200, Loss: 0.1347\n",
      "Epoch 124/200, Loss: 0.1354\n",
      "Epoch 125/200, Loss: 0.1358\n",
      "Epoch 126/200, Loss: 0.1340\n",
      "Epoch 127/200, Loss: 0.1343\n",
      "Epoch 128/200, Loss: 0.1341\n",
      "Epoch 129/200, Loss: 0.1333\n",
      "Epoch 130/200, Loss: 0.1353\n",
      "Epoch 131/200, Loss: 0.1350\n",
      "Epoch 132/200, Loss: 0.1348\n",
      "Epoch 133/200, Loss: 0.1326\n",
      "Epoch 134/200, Loss: 0.1345\n",
      "Epoch 135/200, Loss: 0.1323\n",
      "Epoch 136/200, Loss: 0.1327\n",
      "Epoch 137/200, Loss: 0.1347\n",
      "Epoch 138/200, Loss: 0.1326\n",
      "Epoch 139/200, Loss: 0.1329\n",
      "Epoch 140/200, Loss: 0.1342\n",
      "Epoch 141/200, Loss: 0.1321\n",
      "Epoch 142/200, Loss: 0.1343\n",
      "Epoch 143/200, Loss: 0.1322\n",
      "Epoch 144/200, Loss: 0.1326\n",
      "Epoch 145/200, Loss: 0.1322\n",
      "Epoch 146/200, Loss: 0.1337\n",
      "Epoch 147/200, Loss: 0.1319\n",
      "Epoch 148/200, Loss: 0.1322\n",
      "Epoch 149/200, Loss: 0.1326\n",
      "Epoch 150/200, Loss: 0.1334\n",
      "Epoch 151/200, Loss: 0.1331\n",
      "Epoch 152/200, Loss: 0.1338\n",
      "Epoch 153/200, Loss: 0.1330\n",
      "Epoch 154/200, Loss: 0.1324\n",
      "Epoch 155/200, Loss: 0.1318\n",
      "Epoch 156/200, Loss: 0.1331\n",
      "Epoch 157/200, Loss: 0.1332\n",
      "Epoch 158/200, Loss: 0.1333\n",
      "Epoch 159/200, Loss: 0.1325\n",
      "Epoch 160/200, Loss: 0.1332\n",
      "Epoch 161/200, Loss: 0.1310\n",
      "Epoch 162/200, Loss: 0.1320\n",
      "Epoch 163/200, Loss: 0.1326\n",
      "Epoch 164/200, Loss: 0.1311\n",
      "Epoch 165/200, Loss: 0.1314\n",
      "Epoch 166/200, Loss: 0.1314\n",
      "Epoch 167/200, Loss: 0.1316\n",
      "Epoch 168/200, Loss: 0.1310\n",
      "Epoch 169/200, Loss: 0.1318\n",
      "Epoch 170/200, Loss: 0.1299\n",
      "Epoch 171/200, Loss: 0.1288\n",
      "Epoch 172/200, Loss: 0.1299\n",
      "Epoch 173/200, Loss: 0.1303\n",
      "Epoch 174/200, Loss: 0.1308\n",
      "Epoch 175/200, Loss: 0.1329\n",
      "Epoch 176/200, Loss: 0.1325\n",
      "Epoch 177/200, Loss: 0.1317\n",
      "Epoch 178/200, Loss: 0.1313\n",
      "Epoch 179/200, Loss: 0.1308\n",
      "Epoch 180/200, Loss: 0.1315\n",
      "Epoch 181/200, Loss: 0.1310\n",
      "Epoch 182/200, Loss: 0.1303\n",
      "Epoch 183/200, Loss: 0.1306\n",
      "Epoch 184/200, Loss: 0.1301\n",
      "Epoch 185/200, Loss: 0.1332\n",
      "Epoch 186/200, Loss: 0.1321\n",
      "Epoch 187/200, Loss: 0.1302\n",
      "Epoch 188/200, Loss: 0.1309\n",
      "Epoch 189/200, Loss: 0.1309\n",
      "Epoch 190/200, Loss: 0.1307\n",
      "Epoch 191/200, Loss: 0.1292\n",
      "Epoch 192/200, Loss: 0.1297\n",
      "Epoch 193/200, Loss: 0.1304\n",
      "Epoch 194/200, Loss: 0.1301\n",
      "Epoch 195/200, Loss: 0.1315\n",
      "Epoch 196/200, Loss: 0.1289\n",
      "Epoch 197/200, Loss: 0.1304\n",
      "Epoch 198/200, Loss: 0.1302\n",
      "Epoch 199/200, Loss: 0.1290\n",
      "Epoch 200/200, Loss: 0.1301\n"
     ]
    }
   ],
   "source": [
    "# Train model\n",
    "device = torch.device(\"cuda\" if torch.cuda.is_available() else \"cpu\")\n",
    "model = SentimentRNN(input_size, hidden_size, output_size, num_layers).to(device)\n",
    "criterion = nn.CrossEntropyLoss()\n",
    "optimizer = optim.Adam(model.parameters(), lr=0.001)\n",
    "batch_size = 32\n",
    "num_epochs = 200\n",
    "tokenizer = torchtext.data.utils.get_tokenizer('basic_english')\n",
    "dataset = SentimentDataset(data, tokenizer)\n",
    "print(type(dataset))\n",
    "loader = DataLoader(dataset, batch_size=batch_size, shuffle=True, collate_fn=collate_fn)\n",
    "print(type(loader))\n",
    "\n",
    "# variables to store best loss and best model\n",
    "best_val_loss = float('inf')\n",
    "best_model_path = None\n",
    "\n",
    "# Train loop\n",
    "for epoch in range(num_epochs):\n",
    "    model.train()\n",
    "    running_loss = 0.0    \n",
    "    for x_batch, y_batch in loader:\n",
    "#         print('epoch: '+ str(epoch))\n",
    "#         print(f\"x_batch is:  {x_batch}\")\n",
    "#         print(f\"y_batch is:  {y_batch}\")\n",
    "        x_batch = torch.stack(tuple(x_batch)).to(device)\n",
    "        y_batch = torch.tensor(y_batch).to(device)\n",
    "        optimizer.zero_grad()\n",
    "        outputs = model(x_batch)\n",
    "        loss = criterion(outputs, y_batch)\n",
    "        loss.backward()\n",
    "        optimizer.step()\n",
    "        running_loss += loss.item() * x_batch.size(0)\n",
    "    epoch_loss = running_loss / len(dataset)\n",
    "#     print(f\"Epoch {epoch+1}/{num_epochs}, Loss: {loss.item():.4f}\")\n",
    "    print(f\"Epoch {epoch+1}/{num_epochs}, Loss: {epoch_loss:.4f}\")"
   ]
  },
  {
   "cell_type": "code",
   "execution_count": 11,
   "id": "f50acf14",
   "metadata": {
    "execution": {
     "iopub.execute_input": "2023-04-07T15:40:58.053948Z",
     "iopub.status.busy": "2023-04-07T15:40:58.053013Z",
     "iopub.status.idle": "2023-04-07T15:40:58.075914Z",
     "shell.execute_reply": "2023-04-07T15:40:58.074470Z"
    },
    "papermill": {
     "duration": 0.039254,
     "end_time": "2023-04-07T15:40:58.078024",
     "exception": false,
     "start_time": "2023-04-07T15:40:58.038770",
     "status": "completed"
    },
    "tags": []
   },
   "outputs": [
    {
     "name": "stdout",
     "output_type": "stream",
     "text": [
      "Test Sentence: This movie was terrible. I can not stand this move!\n",
      "Prediction: 0\n"
     ]
    }
   ],
   "source": [
    "# Evaluate model\n",
    "model.eval() # Set model to evaluation mode\n",
    "test_sentence = \"This movie was terrible. I can not stand this move!\"\n",
    "test_sequence = [word_to_ix[word] if word in word_to_ix else 0 for word in test_sentence.split()[:10]]\n",
    "test_sequence += [0] * (10 - len(test_sequence))\n",
    "test_sequence = torch.tensor(test_sequence, dtype=torch.long).unsqueeze(0).to(device)\n",
    "with torch.no_grad():\n",
    "    output = model(test_sequence)\n",
    "    prediction = torch.argmax(output, dim=1).item()\n",
    "print(f\"Test Sentence: {test_sentence}\")\n",
    "print(f\"Prediction: {prediction}\")"
   ]
  },
  {
   "cell_type": "code",
   "execution_count": 12,
   "id": "5c9b9a82",
   "metadata": {
    "execution": {
     "iopub.execute_input": "2023-04-07T15:40:58.105995Z",
     "iopub.status.busy": "2023-04-07T15:40:58.105698Z",
     "iopub.status.idle": "2023-04-07T15:42:00.430465Z",
     "shell.execute_reply": "2023-04-07T15:42:00.429465Z"
    },
    "papermill": {
     "duration": 62.355182,
     "end_time": "2023-04-07T15:42:00.446475",
     "exception": false,
     "start_time": "2023-04-07T15:40:58.091293",
     "status": "completed"
    },
    "tags": []
   },
   "outputs": [
    {
     "name": "stdout",
     "output_type": "stream",
     "text": [
      "<class 'pandas.core.frame.DataFrame'>\n",
      "RangeIndex: 66292 entries, 0 to 66291\n",
      "Data columns (total 2 columns):\n",
      " #   Column    Non-Null Count  Dtype \n",
      "---  ------    --------------  ----- \n",
      " 0   PhraseId  66292 non-null  int64 \n",
      " 1   Phrase    66292 non-null  object\n",
      "dtypes: int64(1), object(1)\n",
      "memory usage: 1.0+ MB\n"
     ]
    },
    {
     "data": {
      "text/html": [
       "<div>\n",
       "<style scoped>\n",
       "    .dataframe tbody tr th:only-of-type {\n",
       "        vertical-align: middle;\n",
       "    }\n",
       "\n",
       "    .dataframe tbody tr th {\n",
       "        vertical-align: top;\n",
       "    }\n",
       "\n",
       "    .dataframe thead th {\n",
       "        text-align: right;\n",
       "    }\n",
       "</style>\n",
       "<table border=\"1\" class=\"dataframe\">\n",
       "  <thead>\n",
       "    <tr style=\"text-align: right;\">\n",
       "      <th></th>\n",
       "      <th>PhraseId</th>\n",
       "      <th>Sentiment</th>\n",
       "    </tr>\n",
       "  </thead>\n",
       "  <tbody>\n",
       "    <tr>\n",
       "      <th>0</th>\n",
       "      <td>156061</td>\n",
       "      <td>2</td>\n",
       "    </tr>\n",
       "    <tr>\n",
       "      <th>1</th>\n",
       "      <td>156062</td>\n",
       "      <td>2</td>\n",
       "    </tr>\n",
       "    <tr>\n",
       "      <th>2</th>\n",
       "      <td>156063</td>\n",
       "      <td>2</td>\n",
       "    </tr>\n",
       "    <tr>\n",
       "      <th>3</th>\n",
       "      <td>156064</td>\n",
       "      <td>2</td>\n",
       "    </tr>\n",
       "    <tr>\n",
       "      <th>4</th>\n",
       "      <td>156065</td>\n",
       "      <td>2</td>\n",
       "    </tr>\n",
       "    <tr>\n",
       "      <th>...</th>\n",
       "      <td>...</td>\n",
       "      <td>...</td>\n",
       "    </tr>\n",
       "    <tr>\n",
       "      <th>66287</th>\n",
       "      <td>222348</td>\n",
       "      <td>2</td>\n",
       "    </tr>\n",
       "    <tr>\n",
       "      <th>66288</th>\n",
       "      <td>222349</td>\n",
       "      <td>2</td>\n",
       "    </tr>\n",
       "    <tr>\n",
       "      <th>66289</th>\n",
       "      <td>222350</td>\n",
       "      <td>2</td>\n",
       "    </tr>\n",
       "    <tr>\n",
       "      <th>66290</th>\n",
       "      <td>222351</td>\n",
       "      <td>2</td>\n",
       "    </tr>\n",
       "    <tr>\n",
       "      <th>66291</th>\n",
       "      <td>222352</td>\n",
       "      <td>2</td>\n",
       "    </tr>\n",
       "  </tbody>\n",
       "</table>\n",
       "<p>66292 rows × 2 columns</p>\n",
       "</div>"
      ],
      "text/plain": [
       "       PhraseId  Sentiment\n",
       "0        156061          2\n",
       "1        156062          2\n",
       "2        156063          2\n",
       "3        156064          2\n",
       "4        156065          2\n",
       "...         ...        ...\n",
       "66287    222348          2\n",
       "66288    222349          2\n",
       "66289    222350          2\n",
       "66290    222351          2\n",
       "66291    222352          2\n",
       "\n",
       "[66292 rows x 2 columns]"
      ]
     },
     "execution_count": 12,
     "metadata": {},
     "output_type": "execute_result"
    }
   ],
   "source": [
    "# test file and predictions\n",
    "# Load data\n",
    "df_test = pd.read_csv('/kaggle/input/sentiment-analysis-on-movie-reviews/test.tsv.zip', sep='\\t', compression='zip')\n",
    "# Relevant columns only\n",
    "data_test = df_test.drop(['SentenceId'], axis=1)\n",
    "data_test.info()\n",
    "# apply the function to the dataframe column 'Phrase'\n",
    "# data_test = data_test.iloc[:75000, :]\n",
    "data_test['Phrase'] = data_test['Phrase'].apply(lambda x: create_padding(x))\n",
    "\n",
    "# feed into the evaluation model\n",
    "model.eval() # Set model to evaluation mode\n",
    "y_pred_submission = []\n",
    "for sentence_test in data_test['Phrase']:\n",
    "    sentence_test = [word_to_ix[word] if word in word_to_ix else 0 for word in sentence_test.split()[:10]]\n",
    "    sentence_test += [0] * (10 - len(sentence_test))\n",
    "    sentence_test = torch.tensor(sentence_test, dtype=torch.long).unsqueeze(0).to(device)\n",
    "    with torch.no_grad():\n",
    "        output = model(sentence_test)\n",
    "        prediction = torch.argmax(output, dim=1).item()\n",
    "        y_pred_submission.append(prediction)\n",
    "d = {'PhraseId': data_test['PhraseId'], 'Sentiment': prediction} \n",
    "submission = pd.DataFrame(data=d)\n",
    "submission"
   ]
  },
  {
   "cell_type": "code",
   "execution_count": 13,
   "id": "d4f85d88",
   "metadata": {
    "execution": {
     "iopub.execute_input": "2023-04-07T15:42:00.474461Z",
     "iopub.status.busy": "2023-04-07T15:42:00.474154Z",
     "iopub.status.idle": "2023-04-07T15:42:00.543153Z",
     "shell.execute_reply": "2023-04-07T15:42:00.541979Z"
    },
    "papermill": {
     "duration": 0.085672,
     "end_time": "2023-04-07T15:42:00.545567",
     "exception": false,
     "start_time": "2023-04-07T15:42:00.459895",
     "status": "completed"
    },
    "tags": []
   },
   "outputs": [],
   "source": [
    "submission.to_csv('/kaggle/working/submission.csv', index=False, header=True)"
   ]
  }
 ],
 "metadata": {
  "kernelspec": {
   "display_name": "Python 3",
   "language": "python",
   "name": "python3"
  },
  "language_info": {
   "codemirror_mode": {
    "name": "ipython",
    "version": 3
   },
   "file_extension": ".py",
   "mimetype": "text/x-python",
   "name": "python",
   "nbconvert_exporter": "python",
   "pygments_lexer": "ipython3",
   "version": "3.7.12"
  },
  "papermill": {
   "default_parameters": {},
   "duration": 13552.130309,
   "end_time": "2023-04-07T15:42:01.907865",
   "environment_variables": {},
   "exception": null,
   "input_path": "__notebook__.ipynb",
   "output_path": "__notebook__.ipynb",
   "parameters": {},
   "start_time": "2023-04-07T11:56:09.777556",
   "version": "2.4.0"
  }
 },
 "nbformat": 4,
 "nbformat_minor": 5
}
